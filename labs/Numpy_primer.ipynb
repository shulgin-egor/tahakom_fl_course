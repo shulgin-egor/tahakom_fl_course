{
  "cells": [
    {
      "cell_type": "markdown",
      "source": [
        "The notebook is based on https://github.com/epfml/OptML_course/blob/master/labs/ex01/npprimer.ipynb"
      ],
      "metadata": {
        "id": "k2gTAACRM0Cn"
      }
    },
    {
      "cell_type": "markdown",
      "source": [
        "# Numpy basics reminder"
      ],
      "metadata": {
        "id": "7uqN4FmEqw3W"
      }
    },
    {
      "cell_type": "markdown",
      "metadata": {
        "id": "SDWCLfl2FgTX"
      },
      "source": [
        "Welcome to the jupyter notebook! To run any cell, press `Shift+Enter` or `Ctrl+Enter`.\n",
        "\n",
        "**IMPORTANT** : Please have a look at `Help->User Interface Tour` and `Help->Keyboard Shortcuts` in the toolbar above that will help you get started."
      ]
    },
    {
      "cell_type": "markdown",
      "metadata": {
        "id": "f9-RkIKIFgTb"
      },
      "source": []
    },
    {
      "cell_type": "code",
      "execution_count": null,
      "metadata": {
        "id": "x2chk1vBFgTb"
      },
      "outputs": [],
      "source": [
        "# Useful starting lines\n",
        "import numpy as np\n",
        "import matplotlib.pyplot as plt\n",
        "import seaborn as sns\n",
        "sns.set(style=\"whitegrid\", context=\"talk\", font_scale=1.3)\n",
        "\n",
        "%matplotlib inline\n",
        "%load_ext autoreload\n",
        "%autoreload 2"
      ]
    },
    {
      "cell_type": "code",
      "execution_count": null,
      "metadata": {
        "id": "pVc9cx_8FgTc",
        "outputId": "8bf41609-ca43-4d86-8914-56f33ffdfa01",
        "colab": {
          "base_uri": "https://localhost:8080/"
        }
      },
      "outputs": [
        {
          "output_type": "stream",
          "name": "stdout",
          "text": [
            "You are running Python 3. Good job :)\n"
          ]
        }
      ],
      "source": [
        "# Check the Python version\n",
        "import sys\n",
        "if sys.version.startswith(\"3.\"):\n",
        "  print(\"You are running Python 3. Good job :)\")\n",
        "else:\n",
        "  print(\"This notebook requires Python 3.\\nIf you are using Google Colab, go to Runtime > Change runtime type and choose Python 3.\")\n"
      ]
    },
    {
      "cell_type": "markdown",
      "metadata": {
        "id": "5tW0X4JCFgTd"
      },
      "source": [
        "# Notebook Basics"
      ]
    },
    {
      "cell_type": "markdown",
      "metadata": {
        "id": "XBOfwJFjFgTd"
      },
      "source": [
        "A cell contains any type of python inputs (expression, function definitions, etc...). Running a cell is equivalent to input this block in the python interpreter. The notebook will print the output of the last executed line."
      ]
    },
    {
      "cell_type": "code",
      "execution_count": null,
      "metadata": {
        "id": "649SLre6FgTd",
        "outputId": "cb096489-8f62-4768-c81f-3208da6b2c4c",
        "colab": {
          "base_uri": "https://localhost:8080/"
        }
      },
      "outputs": [
        {
          "output_type": "execute_result",
          "data": {
            "text/plain": [
              "1"
            ]
          },
          "metadata": {},
          "execution_count": 65
        }
      ],
      "source": [
        "1"
      ]
    },
    {
      "cell_type": "code",
      "execution_count": null,
      "metadata": {
        "id": "sFLj6wXQFgTe"
      },
      "outputs": [],
      "source": [
        "x = [2,3,4]\n",
        "\n",
        "def my_function(l):\n",
        "    l.append(12)"
      ]
    },
    {
      "cell_type": "code",
      "execution_count": null,
      "metadata": {
        "id": "UgcUWnYzFgTe",
        "outputId": "625c7344-73a3-43df-df1b-9fb8d454e7e7",
        "colab": {
          "base_uri": "https://localhost:8080/"
        }
      },
      "outputs": [
        {
          "output_type": "execute_result",
          "data": {
            "text/plain": [
              "[2, 3, 4, 12]"
            ]
          },
          "metadata": {},
          "execution_count": 67
        }
      ],
      "source": [
        "my_function(x)\n",
        "\n",
        "x"
      ]
    },
    {
      "cell_type": "code",
      "execution_count": null,
      "metadata": {
        "id": "umFQL8tHFgTe",
        "outputId": "6fae9ebd-862f-4c03-e271-a133cf159491",
        "colab": {
          "base_uri": "https://localhost:8080/",
          "height": 489
        }
      },
      "outputs": [
        {
          "output_type": "display_data",
          "data": {
            "text/plain": [
              "<Figure size 640x480 with 1 Axes>"
            ],
            "image/png": "[encoded data removed]"
          },
          "metadata": {}
        }
      ],
      "source": [
        "# Matplotlib is used for plotting, plots are directly embedded in the\n",
        "# notebook thanks to the '%matplolib inline' command at the beginning\n",
        "plt.hist(np.random.randn(10000), bins=40)\n",
        "plt.xlabel('X label')\n",
        "plt.ylabel('Y label');"
      ]
    },
    {
      "cell_type": "markdown",
      "metadata": {
        "id": "-mOpTxcxFgTf"
      },
      "source": [
        "Numpy Basics\n",
        "============"
      ]
    },
    {
      "cell_type": "markdown",
      "metadata": {
        "id": "2oQHvTRfFgTf"
      },
      "source": [
        "**IMPORTANT** : the numpy documentation is quite good. The Notebook system is really good to help you. Use the Auto-Completion with `Tab`, and use `Shift+Tab` to get the complete documentation about the current function (when the cursor is between the parenthesis of the function for instance).\n",
        "\n",
        "For example, you want to multiply two arrays. `np.mul` + `Tab` complete to the only valid function `np.multiply`. Then using `Shift+Tab` you learn `np.multiply` is actually the element-wise multiplication and is equivalent to the `*` operator."
      ]
    },
    {
      "cell_type": "code",
      "execution_count": null,
      "metadata": {
        "id": "oougJoqoFgTf",
        "outputId": "cb3d6b9e-4f82-4b43-c99f-582b93c81547",
        "colab": {
          "base_uri": "https://localhost:8080/"
        }
      },
      "outputs": [
        {
          "output_type": "execute_result",
          "data": {
            "text/plain": [
              "<ufunc 'multiply'>"
            ]
          },
          "metadata": {},
          "execution_count": 69
        }
      ],
      "source": [
        "np.multiply"
      ]
    },
    {
      "cell_type": "markdown",
      "metadata": {
        "id": "YyzOVIOZFgTg"
      },
      "source": [
        "### Creation of arrays\n",
        "\n",
        "Creating ndarrays (`np.zeros`, `np.ones`) is done by giving the shape as an iterable (List or Tuple). An integer is also accepted for one-dimensional array.\n",
        "\n",
        "`np.eye` creates an identity matrix.\n",
        "\n",
        "You can also create an array by giving iterables to it.\n",
        "\n",
        "(NB : The random functions `np.random.rand` and `np.random.randn` are exceptions though)"
      ]
    },
    {
      "cell_type": "code",
      "execution_count": null,
      "metadata": {
        "id": "kafFC3VlFgTg",
        "outputId": "3b477842-7043-4904-b7ce-da869085ade9",
        "colab": {
          "base_uri": "https://localhost:8080/"
        }
      },
      "outputs": [
        {
          "output_type": "execute_result",
          "data": {
            "text/plain": [
              "array([0., 0., 0., 0.])"
            ]
          },
          "metadata": {},
          "execution_count": 70
        }
      ],
      "source": [
        "np.zeros(4)"
      ]
    },
    {
      "cell_type": "code",
      "execution_count": null,
      "metadata": {
        "id": "tFSdgH1AFgTg",
        "outputId": "c055dd7d-9eb5-44f3-df2e-2b7e5dd4fad9",
        "colab": {
          "base_uri": "https://localhost:8080/"
        }
      },
      "outputs": [
        {
          "output_type": "execute_result",
          "data": {
            "text/plain": [
              "array([[1., 0., 0.],\n",
              "       [0., 1., 0.],\n",
              "       [0., 0., 1.]])"
            ]
          },
          "metadata": {},
          "execution_count": 71
        }
      ],
      "source": [
        "np.eye(3)"
      ]
    },
    {
      "cell_type": "code",
      "execution_count": null,
      "metadata": {
        "id": "5KVKLEBfFgTg",
        "outputId": "e77e01c5-586c-4e85-fa60-cecb6ae0f8cd",
        "colab": {
          "base_uri": "https://localhost:8080/"
        }
      },
      "outputs": [
        {
          "output_type": "execute_result",
          "data": {
            "text/plain": [
              "array([[1, 3, 4],\n",
              "       [2, 5, 6]])"
            ]
          },
          "metadata": {},
          "execution_count": 72
        }
      ],
      "source": [
        "np.array([[1,3,4],[2,5,6]])"
      ]
    },
    {
      "cell_type": "code",
      "execution_count": null,
      "metadata": {
        "id": "GzeGjBmoFgTh",
        "outputId": "057355c2-3208-406c-b3c3-d4ffb0b0255a",
        "colab": {
          "base_uri": "https://localhost:8080/"
        }
      },
      "outputs": [
        {
          "output_type": "execute_result",
          "data": {
            "text/plain": [
              "array([0, 1, 2, 3, 4, 5, 6, 7, 8, 9])"
            ]
          },
          "metadata": {},
          "execution_count": 73
        }
      ],
      "source": [
        "np.arange(10)  # NB : np.array(range(10)) is a slightly more complicated equivalent"
      ]
    },
    {
      "cell_type": "code",
      "execution_count": null,
      "metadata": {
        "id": "Pe7-MjY4FgTh",
        "outputId": "828fb548-9d61-405e-bcaf-547873968c9e",
        "colab": {
          "base_uri": "https://localhost:8080/"
        }
      },
      "outputs": [
        {
          "output_type": "execute_result",
          "data": {
            "text/plain": [
              "array([[ 0.23217839,  0.57014875,  1.53739765,  0.39550211],\n",
              "       [ 1.94966926,  0.845394  , -0.37316151, -1.28790874],\n",
              "       [ 0.92625393,  0.45382918, -1.32288565, -1.93084219]])"
            ]
          },
          "metadata": {},
          "execution_count": 74
        }
      ],
      "source": [
        "np.random.randn(3, 4) # normal distributed values"
      ]
    },
    {
      "cell_type": "code",
      "execution_count": null,
      "metadata": {
        "id": "DUdCvx_nFgTh",
        "outputId": "a386a59f-f5e6-44ff-9878-fd312b5b9341",
        "colab": {
          "base_uri": "https://localhost:8080/"
        }
      },
      "outputs": [
        {
          "output_type": "execute_result",
          "data": {
            "text/plain": [
              "array([[[1., 1.],\n",
              "        [1., 1.],\n",
              "        [1., 1.],\n",
              "        [1., 1.]],\n",
              "\n",
              "       [[1., 1.],\n",
              "        [1., 1.],\n",
              "        [1., 1.],\n",
              "        [1., 1.]]])"
            ]
          },
          "metadata": {},
          "execution_count": 75
        }
      ],
      "source": [
        "# 3-D tensor\n",
        "tensor_3 = np.ones((2, 4, 2))\n",
        "tensor_3"
      ]
    },
    {
      "cell_type": "markdown",
      "metadata": {
        "id": "qv9ztW2eFgTi"
      },
      "source": [
        "### ndarray basics\n",
        "\n",
        "A ndarray python object is just a reference to the data location and its characteristics.\n",
        "\n",
        "All numpy operations applying on an array can be called np._function_(a) or a._function_() (i.e `np.sum(a)` or `a.sum()`)\n",
        "\n",
        "It has an attribute `shape` that returns a tuple of the different dimensions of the ndarray. It also has an attribute `dtype` that describes the type of data of the object (default type is `float64`)\n",
        "\n",
        "**WARNING** because of the object structure, unless you call `copy()` copying the reference is not copying the data."
      ]
    },
    {
      "cell_type": "code",
      "execution_count": null,
      "metadata": {
        "id": "T7Q0rf9rFgTi",
        "outputId": "92821ce1-f78f-4383-a0c8-c951eb86a651",
        "colab": {
          "base_uri": "https://localhost:8080/"
        }
      },
      "outputs": [
        {
          "output_type": "execute_result",
          "data": {
            "text/plain": [
              "((2, 4, 2), dtype('float64'))"
            ]
          },
          "metadata": {},
          "execution_count": 76
        }
      ],
      "source": [
        "tensor_3.shape, tensor_3.dtype"
      ]
    },
    {
      "cell_type": "code",
      "execution_count": null,
      "metadata": {
        "id": "XZfxNd3EFgTi",
        "outputId": "9ff01e10-8d57-421f-a8ac-a2bce26c0c4b",
        "colab": {
          "base_uri": "https://localhost:8080/"
        }
      },
      "outputs": [
        {
          "output_type": "execute_result",
          "data": {
            "text/plain": [
              "(dtype('int64'), dtype('float64'))"
            ]
          },
          "metadata": {},
          "execution_count": 77
        }
      ],
      "source": [
        "a = np.array([[1.0, 2.0], [5.0, 4.0]])\n",
        "b = np.array([[4, 3], [2, 1]])\n",
        "(b.dtype, a.dtype) # each array has a data type (casting rules apply for int -> float)"
      ]
    },
    {
      "cell_type": "code",
      "execution_count": null,
      "metadata": {
        "id": "s2ats9UwFgTj",
        "outputId": "9af73731-aee1-4299-c47f-42b2bc11b2a1",
        "colab": {
          "base_uri": "https://localhost:8080/"
        }
      },
      "outputs": [
        {
          "output_type": "execute_result",
          "data": {
            "text/plain": [
              "array([[3., 2.],\n",
              "       [5., 4.]])"
            ]
          },
          "metadata": {},
          "execution_count": 78
        }
      ],
      "source": [
        "a = np.array([[1.0, 2.0], [5.0, 4.0]])\n",
        "b = a  # Copying the reference only\n",
        "b[0,0] = 3\n",
        "a"
      ]
    },
    {
      "cell_type": "code",
      "execution_count": null,
      "metadata": {
        "id": "4KdwvkUHFgTj",
        "outputId": "41fc081a-7c2c-416f-93f0-20f09c7bf24f",
        "colab": {
          "base_uri": "https://localhost:8080/"
        }
      },
      "outputs": [
        {
          "output_type": "execute_result",
          "data": {
            "text/plain": [
              "array([[1., 2.],\n",
              "       [5., 4.]])"
            ]
          },
          "metadata": {},
          "execution_count": 79
        }
      ],
      "source": [
        "a = np.array([[1.0, 2.0], [5.0, 4.0]])\n",
        "b = a.copy()  # Deep-copy of the data\n",
        "b[0,0] = 3\n",
        "a"
      ]
    },
    {
      "cell_type": "markdown",
      "metadata": {
        "id": "tlUES7qBFgTk"
      },
      "source": [
        "#### Basic operators are working element-wise (+, -, *, /)\n",
        "\n",
        "When trying to apply operators for arrays with different sizes, they are very specific rules that you might want to understand in the future : http://docs.scipy.org/doc/numpy/user/basics.broadcasting.html"
      ]
    },
    {
      "cell_type": "code",
      "execution_count": null,
      "metadata": {
        "id": "043vBkXkFgTk",
        "outputId": "576bd2a1-c930-4c22-889e-9dec18084769",
        "colab": {
          "base_uri": "https://localhost:8080/"
        }
      },
      "outputs": [
        {
          "output_type": "execute_result",
          "data": {
            "text/plain": [
              "array([[ 1.77777891, -1.07392524,  0.81852659, -0.38365316],\n",
              "       [-0.52606018,  0.12271755,  0.64970149,  0.10699783]])"
            ]
          },
          "metadata": {},
          "execution_count": 80
        }
      ],
      "source": [
        "np.ones((2, 4)) * np.random.randn(2, 4)"
      ]
    },
    {
      "cell_type": "code",
      "execution_count": null,
      "metadata": {
        "id": "jWQToQ1hFgTl",
        "outputId": "d1de6a60-b88d-44ac-d720-7d54d46b0835",
        "colab": {
          "base_uri": "https://localhost:8080/"
        }
      },
      "outputs": [
        {
          "output_type": "execute_result",
          "data": {
            "text/plain": [
              "array([[ 0., -1., -1.],\n",
              "       [-1.,  0., -1.],\n",
              "       [-1., -1.,  0.]])"
            ]
          },
          "metadata": {},
          "execution_count": 81
        }
      ],
      "source": [
        "np.eye(3) - np.ones((3,3))"
      ]
    },
    {
      "cell_type": "code",
      "execution_count": null,
      "metadata": {
        "id": "uFvfXhEhFgTl",
        "outputId": "f564c522-df61-48de-ac3f-745a13552b96",
        "colab": {
          "base_uri": "https://localhost:8080/"
        }
      },
      "outputs": [
        {
          "output_type": "stream",
          "name": "stdout",
          "text": [
            "[[1. 2.]\n",
            " [5. 4.]]\n",
            "(2, 2)\n",
            "2\n"
          ]
        }
      ],
      "source": [
        "print(a)\n",
        "print(a.shape)  # Get shape\n",
        "print(a.shape[0])  # Get size of first dimension"
      ]
    },
    {
      "cell_type": "markdown",
      "metadata": {
        "id": "lGmD4mQVFgTl"
      },
      "source": [
        "#### Accessing elements and slicing\n",
        "\n",
        "For people uncomfortable with the slicing of arrays, please have a look at the 'Indexing and Slicing' section of http://www.python-course.eu/numpy.php"
      ]
    },
    {
      "cell_type": "code",
      "execution_count": null,
      "metadata": {
        "id": "md2V2nIuFgTl",
        "outputId": "1405e4ec-2063-4688-ec0e-7f3597f48f7c",
        "colab": {
          "base_uri": "https://localhost:8080/"
        }
      },
      "outputs": [
        {
          "output_type": "stream",
          "name": "stdout",
          "text": [
            "[1. 2.]\n",
            "[2. 4.]\n",
            "2.0\n"
          ]
        }
      ],
      "source": [
        "print(a[0])  # Get first line (slice for the first dimension)\n",
        "print(a[:, 1])  # Get second column (slice for the second dimension)\n",
        "print(a[0, 1])  # Get first line second column element"
      ]
    },
    {
      "cell_type": "markdown",
      "metadata": {
        "id": "-JxWUfUpFgTl"
      },
      "source": [
        "#### Changing the shape of arrays\n",
        "\n",
        "`ravel` creates a flattened view of an array (1-D representation) whereas `flatten` creates flattened copy of the array.\n",
        "\n",
        "`reshape` allows in-place modification of the shape of the data. `transpose` shuffles the dimensions.\n",
        "\n",
        "`np.newaxis` allows the creation of empty dimensions."
      ]
    },
    {
      "cell_type": "code",
      "execution_count": null,
      "metadata": {
        "id": "4SQhaXRDFgTm"
      },
      "outputs": [],
      "source": [
        "a = np.array([[1.0, 2.0], [5.0, 4.0]])\n",
        "b = np.array([[4, 3], [2, 1]])\n",
        "v = np.array([0.5, 2.0])"
      ]
    },
    {
      "cell_type": "code",
      "execution_count": null,
      "metadata": {
        "id": "p8xpFJxQFgTm",
        "outputId": "a492987e-b542-46e3-ee02-92d0ced14dbf",
        "colab": {
          "base_uri": "https://localhost:8080/"
        }
      },
      "outputs": [
        {
          "output_type": "stream",
          "name": "stdout",
          "text": [
            "[[1. 2.]\n",
            " [5. 4.]]\n",
            "[[1. 5.]\n",
            " [2. 4.]]\n",
            "[1. 2. 5. 4.]\n"
          ]
        }
      ],
      "source": [
        "print(a)\n",
        "print(a.T)  # Equivalent : a.tranpose(), np.transpose(a)\n",
        "print(a.ravel())"
      ]
    },
    {
      "cell_type": "code",
      "execution_count": null,
      "metadata": {
        "id": "a--Rrzp2FgTm",
        "outputId": "7e0ffac5-681e-44fd-f48b-2f70b2658c20",
        "colab": {
          "base_uri": "https://localhost:8080/"
        }
      },
      "outputs": [
        {
          "output_type": "stream",
          "name": "stdout",
          "text": [
            "(4, 5)\n",
            "(1, 4, 5)\n",
            "(5, 4)\n",
            "(10, 2)\n",
            "[[-0.3237524   0.26931115 -0.06836028  0.37889215 -0.39131658]\n",
            " [ 1.04605331 -0.81127631  0.30937256  0.56863453  0.12373491]\n",
            " [-0.90996891  0.73906796  0.56264109  1.888955   -0.42393041]\n",
            " [ 1.26624253 -1.03793986 -0.27496713 -1.57742676  0.44607327]]\n",
            "[[-0.3237524   0.26931115]\n",
            " [-0.06836028  0.37889215]\n",
            " [-0.39131658  1.04605331]\n",
            " [-0.81127631  0.30937256]\n",
            " [ 0.56863453  0.12373491]\n",
            " [-0.90996891  0.73906796]\n",
            " [ 0.56264109  1.888955  ]\n",
            " [-0.42393041  1.26624253]\n",
            " [-1.03793986 -0.27496713]\n",
            " [-1.57742676  0.44607327]]\n"
          ]
        }
      ],
      "source": [
        "c = np.random.randn(4,5)\n",
        "print(c.shape)\n",
        "print(c[np.newaxis].shape)  # Adding a dimension\n",
        "print(c.T.shape)\n",
        "print(c.reshape([10,2]).shape)\n",
        "print(c)\n",
        "print(c.reshape([10,2]))"
      ]
    },
    {
      "cell_type": "code",
      "execution_count": null,
      "metadata": {
        "id": "A6zh9GvcFgTm",
        "outputId": "d5052452-eb39-4784-db63-2acb6c293d8c",
        "colab": {
          "base_uri": "https://localhost:8080/"
        }
      },
      "outputs": [
        {
          "output_type": "execute_result",
          "data": {
            "text/plain": [
              "array([[1.],\n",
              "       [2.],\n",
              "       [5.],\n",
              "       [4.]])"
            ]
          },
          "metadata": {},
          "execution_count": 87
        }
      ],
      "source": [
        "a.reshape((-1, 1)) # a[-1] means 'whatever needs to go there'"
      ]
    },
    {
      "cell_type": "markdown",
      "metadata": {
        "id": "HTUNqqd_FgTm"
      },
      "source": [
        "#### Reduction operations\n",
        "\n",
        "Reduction operations (`np.sum`, `np.max`, `np.min`, `np.std`) work on the flattened ndarray by default. You can specify the reduction axis as an argument"
      ]
    },
    {
      "cell_type": "code",
      "execution_count": null,
      "metadata": {
        "id": "d07i_eAqFgTm",
        "outputId": "64678279-a8f4-460e-be48-89b86fa5905e",
        "colab": {
          "base_uri": "https://localhost:8080/"
        }
      },
      "outputs": [
        {
          "output_type": "execute_result",
          "data": {
            "text/plain": [
              "(12.0, array([6., 6.]), array([3., 9.]))"
            ]
          },
          "metadata": {},
          "execution_count": 88
        }
      ],
      "source": [
        "np.sum(a), np.sum(a, axis=0), np.sum(a, axis=1) # reduce-operations reduce the whole array if no axis is specified"
      ]
    },
    {
      "cell_type": "markdown",
      "metadata": {
        "id": "zU2ZcYClFgTn"
      },
      "source": [
        "#### Linear-algebra operations"
      ]
    },
    {
      "cell_type": "code",
      "execution_count": null,
      "metadata": {
        "id": "0sqbKS82FgTn",
        "outputId": "3d0d448b-8b4d-47b1-93f3-5edb2191ba3c",
        "colab": {
          "base_uri": "https://localhost:8080/"
        }
      },
      "outputs": [
        {
          "output_type": "execute_result",
          "data": {
            "text/plain": [
              "array([[ 8.,  5.],\n",
              "       [28., 19.]])"
            ]
          },
          "metadata": {},
          "execution_count": 89
        }
      ],
      "source": [
        "np.dot(a, b) # matrix multiplication"
      ]
    },
    {
      "cell_type": "code",
      "execution_count": null,
      "metadata": {
        "id": "_NgOkOaBFgTn",
        "outputId": "a79391c2-39ef-4e86-8f4f-c0735e6a64f4",
        "colab": {
          "base_uri": "https://localhost:8080/"
        }
      },
      "outputs": [
        {
          "output_type": "execute_result",
          "data": {
            "text/plain": [
              "True"
            ]
          },
          "metadata": {},
          "execution_count": 90
        }
      ],
      "source": [
        "# Other ways of writing matrix multiplication, the '@' operator for matrix multiplication\n",
        "# was introduced in Python 3.5\n",
        "np.allclose(a.dot(b), a @ b)"
      ]
    },
    {
      "cell_type": "code",
      "execution_count": null,
      "metadata": {
        "id": "p6GYPEyGFgTn",
        "outputId": "f811f565-c645-422e-88b5-aa2f2c31fd7f",
        "colab": {
          "base_uri": "https://localhost:8080/"
        }
      },
      "outputs": [
        {
          "output_type": "execute_result",
          "data": {
            "text/plain": [
              "(array([-1.,  6.]),\n",
              " array([[-0.70710678, -0.37139068],\n",
              "        [ 0.70710678, -0.92847669]]))"
            ]
          },
          "metadata": {},
          "execution_count": 91
        }
      ],
      "source": [
        "# For other linear algebra operations, use the np.linalg module\n",
        "np.linalg.eig(a)  # Eigen-decomposition"
      ]
    },
    {
      "cell_type": "code",
      "execution_count": null,
      "metadata": {
        "id": "1rkZciKJFgTn",
        "outputId": "4dd5cf92-e6ff-49f7-b652-dbe695ef34e1",
        "colab": {
          "base_uri": "https://localhost:8080/"
        }
      },
      "outputs": [
        {
          "output_type": "stream",
          "name": "stdout",
          "text": [
            "[[-0.66666667  0.33333333]\n",
            " [ 0.83333333 -0.16666667]]\n"
          ]
        },
        {
          "output_type": "execute_result",
          "data": {
            "text/plain": [
              "True"
            ]
          },
          "metadata": {},
          "execution_count": 92
        }
      ],
      "source": [
        "print(np.linalg.inv(a))  # Inverse\n",
        "np.allclose(np.linalg.inv(a) @ a, np.identity(a.shape[1]))  # a^-1 * a = Id"
      ]
    },
    {
      "cell_type": "code",
      "execution_count": null,
      "metadata": {
        "id": "XloUYKErFgTn",
        "outputId": "e4d73071-59dc-4729-bc97-d9f2db3cd6ce",
        "colab": {
          "base_uri": "https://localhost:8080/"
        }
      },
      "outputs": [
        {
          "output_type": "execute_result",
          "data": {
            "text/plain": [
              "array([0.33333333, 0.08333333])"
            ]
          },
          "metadata": {},
          "execution_count": 93
        }
      ],
      "source": [
        "np.linalg.solve(a, v) # solves ax = v"
      ]
    },
    {
      "cell_type": "markdown",
      "metadata": {
        "id": "vi1kaoBzFgTo"
      },
      "source": [
        "#### Grouping operations\n",
        "\n",
        "Grouping operations (`np.stack`, `np.hstack`, `np.vstack`, `np.concatenate`) take an iterable of ndarrays and not ndarrays as separate arguments : np.concatenate([a,b]) and not np.concatenate(a,b)."
      ]
    },
    {
      "cell_type": "code",
      "execution_count": null,
      "metadata": {
        "id": "XHcVxAKDFgTo",
        "outputId": "f423c379-9123-433b-ba4c-59f23279955a",
        "colab": {
          "base_uri": "https://localhost:8080/"
        }
      },
      "outputs": [
        {
          "output_type": "execute_result",
          "data": {
            "text/plain": [
              "array([[1., 2., 4., 3.],\n",
              "       [5., 4., 2., 1.]])"
            ]
          },
          "metadata": {},
          "execution_count": 94
        }
      ],
      "source": [
        "np.hstack([a, b])"
      ]
    },
    {
      "cell_type": "code",
      "execution_count": null,
      "metadata": {
        "scrolled": true,
        "id": "yL-bmRxlFgTo",
        "outputId": "204320f2-4b7e-4c90-f712-8296c4e91df6",
        "colab": {
          "base_uri": "https://localhost:8080/"
        }
      },
      "outputs": [
        {
          "output_type": "execute_result",
          "data": {
            "text/plain": [
              "array([[1., 2.],\n",
              "       [5., 4.],\n",
              "       [4., 3.],\n",
              "       [2., 1.]])"
            ]
          },
          "metadata": {},
          "execution_count": 95
        }
      ],
      "source": [
        "np.vstack([a, b])"
      ]
    },
    {
      "cell_type": "code",
      "execution_count": null,
      "metadata": {
        "id": "rsLeW_EBFgTo",
        "outputId": "ecbf168a-7088-44dd-bc08-dd4068c1f15f",
        "colab": {
          "base_uri": "https://localhost:8080/"
        }
      },
      "outputs": [
        {
          "output_type": "execute_result",
          "data": {
            "text/plain": [
              "array([[1.5, 4. ],\n",
              "       [5.5, 6. ],\n",
              "       [4.5, 5. ],\n",
              "       [2.5, 3. ]])"
            ]
          },
          "metadata": {},
          "execution_count": 96
        }
      ],
      "source": [
        "np.vstack([a, b]) + v # broadcasting"
      ]
    },
    {
      "cell_type": "code",
      "execution_count": null,
      "metadata": {
        "id": "6AAuHLsvFgTo",
        "outputId": "4c205786-c947-402e-b174-207b9a6d6e37",
        "colab": {
          "base_uri": "https://localhost:8080/",
          "height": 174
        }
      },
      "outputs": [
        {
          "output_type": "error",
          "ename": "ValueError",
          "evalue": "ignored",
          "traceback": [
            "\u001b[0;31m---------------------------------------------------------------------------\u001b[0m",
            "\u001b[0;31mValueError\u001b[0m                                Traceback (most recent call last)",
            "\u001b[0;32m<ipython-input-97-5c0deec6e066>\u001b[0m in \u001b[0;36m<cell line: 1>\u001b[0;34m()\u001b[0m\n\u001b[0;32m----> 1\u001b[0;31m \u001b[0mnp\u001b[0m\u001b[0;34m.\u001b[0m\u001b[0mhstack\u001b[0m\u001b[0;34m(\u001b[0m\u001b[0;34m[\u001b[0m\u001b[0ma\u001b[0m\u001b[0;34m,\u001b[0m \u001b[0mb\u001b[0m\u001b[0;34m]\u001b[0m\u001b[0;34m)\u001b[0m \u001b[0;34m+\u001b[0m \u001b[0mv\u001b[0m \u001b[0;31m# does not work\u001b[0m\u001b[0;34m\u001b[0m\u001b[0;34m\u001b[0m\u001b[0m\n\u001b[0m",
            "\u001b[0;31mValueError\u001b[0m: operands could not be broadcast together with shapes (2,4) (2,) "
          ]
        }
      ],
      "source": [
        "np.hstack([a, b]) + v # does not work"
      ]
    },
    {
      "cell_type": "code",
      "execution_count": null,
      "metadata": {
        "id": "IT_dOWLwFgTp",
        "outputId": "9657022c-08fb-4b2f-8557-fe133ba35d28",
        "colab": {
          "base_uri": "https://localhost:8080/",
          "height": 174
        }
      },
      "outputs": [
        {
          "output_type": "error",
          "ename": "ValueError",
          "evalue": "ignored",
          "traceback": [
            "\u001b[0;31m---------------------------------------------------------------------------\u001b[0m",
            "\u001b[0;31mValueError\u001b[0m                                Traceback (most recent call last)",
            "\u001b[0;32m<ipython-input-98-ea0dadd42dc1>\u001b[0m in \u001b[0;36m<cell line: 1>\u001b[0;34m()\u001b[0m\n\u001b[0;32m----> 1\u001b[0;31m \u001b[0mnp\u001b[0m\u001b[0;34m.\u001b[0m\u001b[0mhstack\u001b[0m\u001b[0;34m(\u001b[0m\u001b[0;34m[\u001b[0m\u001b[0ma\u001b[0m\u001b[0;34m,\u001b[0m \u001b[0mb\u001b[0m\u001b[0;34m]\u001b[0m\u001b[0;34m)\u001b[0m \u001b[0;34m+\u001b[0m \u001b[0mv\u001b[0m\u001b[0;34m.\u001b[0m\u001b[0mT\u001b[0m \u001b[0;31m# transposing a 1-D array achieves nothing\u001b[0m\u001b[0;34m\u001b[0m\u001b[0;34m\u001b[0m\u001b[0m\n\u001b[0m",
            "\u001b[0;31mValueError\u001b[0m: operands could not be broadcast together with shapes (2,4) (2,) "
          ]
        }
      ],
      "source": [
        "np.hstack([a, b]) + v.T # transposing a 1-D array achieves nothing"
      ]
    },
    {
      "cell_type": "code",
      "execution_count": null,
      "metadata": {
        "scrolled": true,
        "id": "-OHjEuCDFgTp",
        "outputId": "ba668ba4-28a0-4acc-b5a0-cc3ebc994653",
        "colab": {
          "base_uri": "https://localhost:8080/"
        }
      },
      "outputs": [
        {
          "output_type": "execute_result",
          "data": {
            "text/plain": [
              "array([[1.5, 2.5, 4.5, 3.5],\n",
              "       [7. , 6. , 4. , 3. ]])"
            ]
          },
          "metadata": {},
          "execution_count": 99
        }
      ],
      "source": [
        "np.hstack([a, b]) + v.reshape((-1, 1)) # reshaping to convert v from a (2,) vector to a (2,1) matrix"
      ]
    },
    {
      "cell_type": "code",
      "execution_count": null,
      "metadata": {
        "id": "gYvMH5GxFgTp",
        "outputId": "e1277744-10b9-483b-a57c-36a7c039252a",
        "colab": {
          "base_uri": "https://localhost:8080/"
        }
      },
      "outputs": [
        {
          "output_type": "execute_result",
          "data": {
            "text/plain": [
              "array([[1.5, 2.5, 4.5, 3.5],\n",
              "       [7. , 6. , 4. , 3. ]])"
            ]
          },
          "metadata": {},
          "execution_count": 100
        }
      ],
      "source": [
        "np.hstack([a, b]) + v[:, np.newaxis] # equivalently, we can add an axis"
      ]
    },
    {
      "cell_type": "markdown",
      "metadata": {
        "id": "V6nPqWR7FgTp"
      },
      "source": [
        "## Working on subset of the elements\n",
        "\n",
        "We have two ways in order to apply operations on subparts of arrays (besides slicing).\n",
        "\n",
        "#### Slicing reminders"
      ]
    },
    {
      "cell_type": "code",
      "execution_count": null,
      "metadata": {
        "id": "EyAs3UxNFgTp"
      },
      "outputs": [],
      "source": [
        "r = np.random.randint(0, 10, size=(3, 4))"
      ]
    },
    {
      "cell_type": "code",
      "execution_count": null,
      "metadata": {
        "id": "CyWNYKZ5FgTp",
        "outputId": "8863fd92-301b-4b48-9b5f-3bac49b680c6",
        "colab": {
          "base_uri": "https://localhost:8080/"
        }
      },
      "outputs": [
        {
          "output_type": "execute_result",
          "data": {
            "text/plain": [
              "array([[8, 4, 8, 0],\n",
              "       [1, 3, 6, 7],\n",
              "       [8, 4, 6, 6]])"
            ]
          },
          "metadata": {},
          "execution_count": 102
        }
      ],
      "source": [
        "r"
      ]
    },
    {
      "cell_type": "code",
      "execution_count": null,
      "metadata": {
        "id": "OiqhcMSvFgTp",
        "outputId": "7ea2e8a1-7ffa-48f2-ab29-5aafc450df67",
        "colab": {
          "base_uri": "https://localhost:8080/"
        }
      },
      "outputs": [
        {
          "output_type": "execute_result",
          "data": {
            "text/plain": [
              "(array([8, 4, 8, 0]), array([1, 3, 6, 7]))"
            ]
          },
          "metadata": {},
          "execution_count": 103
        }
      ],
      "source": [
        "r[0], r[1]"
      ]
    },
    {
      "cell_type": "code",
      "execution_count": null,
      "metadata": {
        "id": "Goo6q0LBFgTq",
        "outputId": "785fa73a-271f-4106-8497-007f534b43ad",
        "colab": {
          "base_uri": "https://localhost:8080/"
        }
      },
      "outputs": [
        {
          "output_type": "execute_result",
          "data": {
            "text/plain": [
              "array([[8, 4, 8, 0],\n",
              "       [1, 3, 6, 7]])"
            ]
          },
          "metadata": {},
          "execution_count": 104
        }
      ],
      "source": [
        "r[0:2]"
      ]
    },
    {
      "cell_type": "code",
      "execution_count": null,
      "metadata": {
        "id": "T1ity5IEFgTq",
        "outputId": "ec26230d-534a-4880-ad32-d5db8f32319a",
        "colab": {
          "base_uri": "https://localhost:8080/"
        }
      },
      "outputs": [
        {
          "output_type": "execute_result",
          "data": {
            "text/plain": [
              "6"
            ]
          },
          "metadata": {},
          "execution_count": 105
        }
      ],
      "source": [
        "r[1][2] # regular python"
      ]
    },
    {
      "cell_type": "code",
      "execution_count": null,
      "metadata": {
        "id": "pSG94tEtFgTq",
        "outputId": "8e7b99da-d3e4-4a9b-ed25-bf9cc775aa07",
        "colab": {
          "base_uri": "https://localhost:8080/"
        }
      },
      "outputs": [
        {
          "output_type": "execute_result",
          "data": {
            "text/plain": [
              "6"
            ]
          },
          "metadata": {},
          "execution_count": 106
        }
      ],
      "source": [
        "r[1, 2] # numpy"
      ]
    },
    {
      "cell_type": "code",
      "execution_count": null,
      "metadata": {
        "id": "ZE8IPwJ2FgTq",
        "outputId": "261c5733-831c-4e20-c162-9142fb5bcab6",
        "colab": {
          "base_uri": "https://localhost:8080/"
        }
      },
      "outputs": [
        {
          "output_type": "execute_result",
          "data": {
            "text/plain": [
              "array([[4, 8],\n",
              "       [3, 6],\n",
              "       [4, 6]])"
            ]
          },
          "metadata": {},
          "execution_count": 107
        }
      ],
      "source": [
        "r[:, 1:3]"
      ]
    },
    {
      "cell_type": "markdown",
      "metadata": {
        "id": "29BtF93kFgTq"
      },
      "source": [
        "#### Binary masks\n",
        "\n",
        "Using logical operations on arrays give a binary mask. Using a binary mask as indexing acts as a filter and outputs just the very elements where the value is True. This gives a memoryview of the array that can get modified."
      ]
    },
    {
      "cell_type": "code",
      "execution_count": null,
      "metadata": {
        "id": "1Sj8LgggFgTq",
        "colab": {
          "base_uri": "https://localhost:8080/"
        },
        "outputId": "a6f3a0ff-14cd-4e6b-9a1d-4ae1945b6c89"
      },
      "outputs": [
        {
          "output_type": "execute_result",
          "data": {
            "text/plain": [
              "array([[ True, False,  True, False],\n",
              "       [False, False,  True,  True],\n",
              "       [ True, False,  True,  True]])"
            ]
          },
          "metadata": {},
          "execution_count": 108
        }
      ],
      "source": [
        "r > 5  # Binary element-wise result"
      ]
    },
    {
      "cell_type": "code",
      "execution_count": null,
      "metadata": {
        "id": "S9JQeEpiFgTq",
        "colab": {
          "base_uri": "https://localhost:8080/"
        },
        "outputId": "e7e751f1-a60f-491d-80d5-815db7449d61"
      },
      "outputs": [
        {
          "output_type": "execute_result",
          "data": {
            "text/plain": [
              "array([8, 8, 6, 7, 8, 6, 6])"
            ]
          },
          "metadata": {},
          "execution_count": 109
        }
      ],
      "source": [
        "r[r > 5]  # Use the binary mask as filter"
      ]
    },
    {
      "cell_type": "code",
      "execution_count": null,
      "metadata": {
        "collapsed": true,
        "id": "uU-9pvcuFgTr"
      },
      "outputs": [],
      "source": [
        "r[r > 5] = 999  # Modify the corresponding values with a constant"
      ]
    },
    {
      "cell_type": "code",
      "execution_count": null,
      "metadata": {
        "id": "qCHDFvCpFgTr",
        "colab": {
          "base_uri": "https://localhost:8080/"
        },
        "outputId": "91250b1d-c2ed-4df2-fd8b-b24cfbda0a7a"
      },
      "outputs": [
        {
          "output_type": "execute_result",
          "data": {
            "text/plain": [
              "array([[999,   4, 999,   0],\n",
              "       [  1,   3, 999, 999],\n",
              "       [999,   4, 999, 999]])"
            ]
          },
          "metadata": {},
          "execution_count": 111
        }
      ],
      "source": [
        "r"
      ]
    },
    {
      "cell_type": "markdown",
      "metadata": {
        "collapsed": true,
        "id": "lP_doivnFgTr"
      },
      "source": [
        "#### Working with indices\n",
        "\n",
        "The second way to work on subpart of arrays are through indices. Usually you'd use one array per dimension with matching indices.\n",
        "\n",
        "**WARNING** : indices are usually slower than binary masks because it is harder to be parallelized by the underlying BLAS library."
      ]
    },
    {
      "cell_type": "code",
      "execution_count": null,
      "metadata": {
        "id": "LsFruN-LFgTr",
        "colab": {
          "base_uri": "https://localhost:8080/"
        },
        "outputId": "c0facfd0-d47f-46ae-94fe-2c7e05a519c5"
      },
      "outputs": [
        {
          "output_type": "execute_result",
          "data": {
            "text/plain": [
              "(array([0, 0, 1, 1, 2, 2, 2]), array([0, 2, 2, 3, 0, 2, 3]))"
            ]
          },
          "metadata": {},
          "execution_count": 112
        }
      ],
      "source": [
        "# Get the indices where the condition is true, gives a tuple whose length\n",
        "# is the number of dimensions of the input array\n",
        "np.where(r == 999)"
      ]
    },
    {
      "cell_type": "code",
      "execution_count": null,
      "metadata": {
        "id": "4QydxHxqFgTr",
        "colab": {
          "base_uri": "https://localhost:8080/"
        },
        "outputId": "de52cb55-b6b4-4c7f-e6af-6d908ecbf2eb"
      },
      "outputs": [
        {
          "output_type": "stream",
          "name": "stdout",
          "text": [
            "(array([0, 1, 2, 3, 4]),)\n"
          ]
        },
        {
          "output_type": "execute_result",
          "data": {
            "text/plain": [
              "array([0, 1, 2, 3, 4])"
            ]
          },
          "metadata": {},
          "execution_count": 113
        }
      ],
      "source": [
        "print(np.where(np.arange(10) < 5))  # Is a 1-tuple\n",
        "np.where(np.arange(10) < 5)[0]  # Accessing the first element gives the indices array"
      ]
    },
    {
      "cell_type": "code",
      "execution_count": null,
      "metadata": {
        "id": "0P8hVTrtFgTr",
        "colab": {
          "base_uri": "https://localhost:8080/"
        },
        "outputId": "d0417b20-6f60-482c-d18f-ffae516c9907"
      },
      "outputs": [
        {
          "output_type": "execute_result",
          "data": {
            "text/plain": [
              "array([[ -10, 1004,  -10, 1000],\n",
              "       [1001, 1003,  -10,  -10],\n",
              "       [ -10, 1004,  -10,  -10]])"
            ]
          },
          "metadata": {},
          "execution_count": 114
        }
      ],
      "source": [
        "np.where(r == 999, -10, r+1000)  # Ternary condition, if True take element from first array, otherwise from second"
      ]
    },
    {
      "cell_type": "code",
      "execution_count": null,
      "metadata": {
        "id": "vOwdgAIlFgTr",
        "colab": {
          "base_uri": "https://localhost:8080/"
        },
        "outputId": "08085c73-0ea7-4f81-8861-f0f643714d70"
      },
      "outputs": [
        {
          "output_type": "execute_result",
          "data": {
            "text/plain": [
              "array([999, 999])"
            ]
          },
          "metadata": {},
          "execution_count": 115
        }
      ],
      "source": [
        "r[(np.array([1,2]), np.array([2,2]))]  # Gets the view corresponding to the indices. NB : iterable of arrays as indexing"
      ]
    },
    {
      "cell_type": "markdown",
      "source": [
        "# Exercises"
      ],
      "metadata": {
        "id": "3B22wC_YN1Lg"
      }
    },
    {
      "cell_type": "code",
      "source": [
        "import numpy.linalg as la"
      ],
      "metadata": {
        "id": "tC7PJocRSlTD"
      },
      "execution_count": null,
      "outputs": []
    },
    {
      "cell_type": "markdown",
      "source": [
        "## Least squares (quadratic function) loss\n",
        "$$\n",
        "f(x_1, x_2) = 0.2 x_1^2 + x_2^2\n",
        "$$"
      ],
      "metadata": {
        "id": "EmwTWZ4LS1_7"
      }
    },
    {
      "cell_type": "markdown",
      "source": [
        "Implement this function and its gradient. What is the minimum of $f(x)$?"
      ],
      "metadata": {
        "id": "_jHeQWzesAXS"
      }
    },
    {
      "cell_type": "code",
      "source": [
        "def f_2d(x_1, x_2):\n",
        "#     your code here\n",
        "# ==============\n",
        "  return"
      ],
      "metadata": {
        "id": "EZjxWJbZrgvv"
      },
      "execution_count": null,
      "outputs": []
    },
    {
      "cell_type": "code",
      "source": [
        "def grad_f_2d(x_1, x_2):\n",
        "#     your code here\n",
        "# ==============\n",
        "  return"
      ],
      "metadata": {
        "id": "Z3X0XGz9rp2J"
      },
      "execution_count": null,
      "outputs": []
    },
    {
      "cell_type": "markdown",
      "source": [
        "Next we visualize this function"
      ],
      "metadata": {
        "id": "xFgrE0efsU3D"
      }
    },
    {
      "cell_type": "code",
      "source": [
        "x = np.linspace(-10, 10, 1000)\n",
        "y = np.linspace(-10, 10, 1000)\n",
        "X, Y = np.meshgrid(x, y)\n",
        "Z = f_2d(X, Y)"
      ],
      "metadata": {
        "id": "PT5WyfQ0kBMH"
      },
      "execution_count": null,
      "outputs": []
    },
    {
      "cell_type": "code",
      "source": [
        "fig = plt.figure(figsize=(15, 15))\n",
        "\n",
        "ax = plt.figure().add_subplot(projection='3d')\n",
        "ax.contour3D(X, Y, Z, 100, alpha=0.5)\n",
        "\n",
        "ax.scatter(0, 0, f_2d(0, 0), color = 'red', marker =\"*\", s=20, label=\"Minimum\")\n",
        "ax.view_init(20, 20)\n",
        "ax.set_xlabel('$x_1$')\n",
        "ax.set_ylabel('$x_2$')\n",
        "ax.set_zlabel('$f(x_1, x_2)$')\n",
        "plt.legend()\n",
        "plt.show();"
      ],
      "metadata": {
        "colab": {
          "base_uri": "https://localhost:8080/",
          "height": 427
        },
        "id": "EG7lkMQBkP1x",
        "outputId": "365f92ad-4a1f-4bd4-c918-d084ff3f860a"
      },
      "execution_count": null,
      "outputs": [
        {
          "output_type": "display_data",
          "data": {
            "text/plain": [
              "<Figure size 1500x1500 with 0 Axes>"
            ]
          },
          "metadata": {}
        },
        {
          "output_type": "display_data",
          "data": {
            "text/plain": [
              "<Figure size 640x480 with 1 Axes>"
            ],
            "image/png": "[encoded data removed]"
          },
          "metadata": {}
        }
      ]
    },
    {
      "cell_type": "markdown",
      "source": [
        "## Multidimensional\n",
        "$$f(x) := \\frac{1}{2}\\|Ax - b\\|^2,$$\n",
        "\n",
        "where $A\\in\\mathbb{R}^{d\\times d}$ is a symmetric matrix.\n"
      ],
      "metadata": {
        "id": "emjipoc1TurU"
      }
    },
    {
      "cell_type": "markdown",
      "source": [
        "Implement this function and its gradient. What is the minimum of $f(x)$ ?"
      ],
      "metadata": {
        "id": "bglhKngStBxS"
      }
    },
    {
      "cell_type": "code",
      "source": [
        "# We define the required auxiliary variables\n",
        "\n",
        "# Problem dimension\n",
        "d = 10\n",
        "\n",
        "A_ = np.random.randn(d, d)\n",
        "A = (A_ + A_.T)/2 # # Enforce symmetricity\n",
        "b = np.random.randn(d, 1)\n",
        "\n",
        "x0 = np.random.randn(d, 1)"
      ],
      "metadata": {
        "id": "Mu5WWJEDN5nz"
      },
      "execution_count": null,
      "outputs": []
    },
    {
      "cell_type": "code",
      "source": [
        "def f(x, A, b):\n",
        "#     your code here\n",
        "# ==============\n",
        "  return"
      ],
      "metadata": {
        "id": "T97MIqVUSQZv"
      },
      "execution_count": null,
      "outputs": []
    },
    {
      "cell_type": "markdown",
      "source": [
        "### Gradient calculation"
      ],
      "metadata": {
        "id": "G6OOQ_fAtvma"
      }
    },
    {
      "cell_type": "code",
      "source": [
        "def grad_f(x, A, b):\n",
        "#     your code here\n",
        "# ==============\n",
        "  return"
      ],
      "metadata": {
        "id": "1hDSUiCitZio"
      },
      "execution_count": null,
      "outputs": []
    },
    {
      "cell_type": "markdown",
      "source": [
        "#### Hints"
      ],
      "metadata": {
        "id": "aYB0oNfvug-n"
      }
    },
    {
      "cell_type": "markdown",
      "source": [
        "https://en.wikipedia.org/wiki/Matrix_calculus\n",
        "\n",
        "https://www.matrixcalculus.org/"
      ],
      "metadata": {
        "id": "Sx5-wFf5utCj"
      }
    },
    {
      "cell_type": "markdown",
      "source": [
        "### Analytic solution\n",
        "\n",
        "Compute the minimum $x^\\star$ of $f(x)$ and norm of the gradient $\\|\\nabla f(x)\\|$ at $x^\\star$ and at some random point $x_0$."
      ],
      "metadata": {
        "id": "dF015JRtVTSk"
      }
    },
    {
      "cell_type": "markdown",
      "source": [
        "#### Hint"
      ],
      "metadata": {
        "id": "h1B8Q0yav81n"
      }
    },
    {
      "cell_type": "markdown",
      "source": [
        "$x^\\star$ can be obtained from optimality condition: $\\nabla f(x^\\star) = 0$."
      ],
      "metadata": {
        "id": "DhiaykQkv_FZ"
      }
    },
    {
      "cell_type": "markdown",
      "source": [
        "### Your implementation"
      ],
      "metadata": {
        "id": "igENNXaUwB0K"
      }
    },
    {
      "cell_type": "code",
      "source": [
        "# Minimum\n",
        "x_star = # your code here"
      ],
      "metadata": {
        "id": "Thr6JnuPyu1Z"
      },
      "execution_count": null,
      "outputs": []
    },
    {
      "cell_type": "code",
      "source": [
        "def norm_grad_f(x, A, b):\n",
        "#     your code here\n",
        "# ==============\n",
        "  return"
      ],
      "metadata": {
        "id": "bZNoxmBCxwA_"
      },
      "execution_count": null,
      "outputs": []
    },
    {
      "cell_type": "code",
      "source": [
        "# Norm of gradient at the optimum.\n",
        "\n",
        "min_norm = # your code here\n",
        "print(\"Gradient norm at the solution:\", min_norm)"
      ],
      "metadata": {
        "id": "X7tYxcLtvzUD"
      },
      "execution_count": null,
      "outputs": []
    },
    {
      "cell_type": "code",
      "source": [
        "# Random point\n",
        "x_0 = # your code here"
      ],
      "metadata": {
        "id": "CnlZBt0dxkjK"
      },
      "execution_count": null,
      "outputs": []
    },
    {
      "cell_type": "code",
      "source": [
        "# Norm of gradient at the random point.\n",
        "\n",
        "norm_0 = # your code here\n",
        "print(\"Gradient norm at the solution:\", norm_0)"
      ],
      "metadata": {
        "id": "QGCrU5RBxq6I"
      },
      "execution_count": null,
      "outputs": []
    },
    {
      "cell_type": "markdown",
      "source": [
        "## Excercise"
      ],
      "metadata": {
        "id": "-S48NfyqwiWW"
      }
    },
    {
      "cell_type": "markdown",
      "source": [
        "Next generate 1000 random points and display (plot) the sorted (descending) function values in them."
      ],
      "metadata": {
        "id": "wjc1akEIYCPY"
      }
    },
    {
      "cell_type": "code",
      "source": [
        "#     your code here\n",
        "\n",
        "#   =============="
      ],
      "metadata": {
        "id": "Kr1ZlUuQwlk3"
      },
      "execution_count": 4,
      "outputs": []
    },
    {
      "cell_type": "markdown",
      "source": [
        "#### Hint"
      ],
      "metadata": {
        "id": "RhPdH3dkw2OJ"
      }
    },
    {
      "cell_type": "markdown",
      "source": [
        "One can use matplotlib's `plt.plot()` function [(Documentation)](https://matplotlib.org/stable/api/_as_gen/matplotlib.pyplot.plot.html) for plotting."
      ],
      "metadata": {
        "id": "DDu-Cqs_w5Vg"
      }
    }
  ],
  "metadata": {
    "anaconda-cloud": {},
    "kernelspec": {
      "display_name": "Python 3",
      "language": "python",
      "name": "python3"
    },
    "language_info": {
      "codemirror_mode": {
        "name": "ipython",
        "version": 3
      },
      "file_extension": ".py",
      "mimetype": "text/x-python",
      "name": "python",
      "nbconvert_exporter": "python",
      "pygments_lexer": "ipython3",
      "version": "3.7.4"
    },
    "toc": {
      "base_numbering": 1,
      "nav_menu": {},
      "number_sections": true,
      "sideBar": true,
      "skip_h1_title": false,
      "title_cell": "Table of Contents",
      "title_sidebar": "Contents",
      "toc_cell": false,
      "toc_position": {},
      "toc_section_display": true,
      "toc_window_display": false
    },
    "colab": {
      "provenance": [],
      "collapsed_sections": [
        "aYB0oNfvug-n",
        "h1B8Q0yav81n",
        "RhPdH3dkw2OJ"
      ]
    }
  },
  "nbformat": 4,
  "nbformat_minor": 0
}